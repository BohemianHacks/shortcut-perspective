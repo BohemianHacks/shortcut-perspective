{
  "nbformat": 4,
  "nbformat_minor": 0,
  "metadata": {
    "colab": {
      "name": "shortcut_toy_exp.ipynb",
      "provenance": [],
      "toc_visible": true,
      "machine_shape": "hm"
    },
    "kernelspec": {
      "name": "python3",
      "display_name": "Python 3"
    }
  },
  "cells": [
    {
      "cell_type": "markdown",
      "metadata": {
        "id": "2h-cF9y9H6Gp",
        "colab_type": "text"
      },
      "source": [
        "# Structural equation model for shortcut dataset\n",
        "\n"
      ]
    },
    {
      "cell_type": "code",
      "metadata": {
        "id": "GYnNHs1Ey5fD",
        "colab_type": "code",
        "colab": {}
      },
      "source": [
        "import numpy as np\n",
        "import torch\n",
        "import matplotlib.pyplot as plt\n",
        "import torch.utils.data as utils\n",
        "import torch.nn as nn\n",
        "import torch.nn.functional as F\n",
        "from torch.autograd import Variable\n",
        "import sys\n",
        "import IPython\n",
        "import time"
      ],
      "execution_count": 0,
      "outputs": []
    },
    {
      "cell_type": "code",
      "metadata": {
        "id": "zfiur8EEVJ_E",
        "colab_type": "code",
        "colab": {}
      },
      "source": [
        ""
      ],
      "execution_count": 0,
      "outputs": []
    },
    {
      "cell_type": "code",
      "metadata": {
        "id": "unVkdMckzSCD",
        "colab_type": "code",
        "colab": {}
      },
      "source": [
        "# Dataset specification\n",
        "n = 1000\n",
        "dim = 1\n",
        "std = 10.0\n",
        "# Train specification\n",
        "epochs = 100\n",
        "lr = 0.00001\n",
        "bs = 100\n",
        "log_interval = 10"
      ],
      "execution_count": 0,
      "outputs": []
    },
    {
      "cell_type": "code",
      "metadata": {
        "id": "cnRuMEwjy7ne",
        "colab_type": "code",
        "colab": {}
      },
      "source": [
        "# Setting up SEM\n",
        "## Train set\n",
        "x1_tr = torch.FloatTensor(n,1).normal_(mean=0,std=std)\n",
        "y_tr = x1_tr + torch.FloatTensor(n,1).normal_(mean=0,std=std)\n",
        "x2_tr = y_tr + torch.FloatTensor(n,1).normal_(mean=0,std=1)\n",
        "x_tr = torch.cat((x1_tr,x2_tr),1)\n",
        "## Test set (reversed spurious correlation)\n",
        "x1_te = torch.FloatTensor(n,1).normal_(mean=0,std=std)\n",
        "y_te = x1_te + torch.FloatTensor(n,1).normal_(mean=0,std=std)\n",
        "x2_te = - y_te  + torch.FloatTensor(n,1).normal_(mean=0,std=1)\n",
        "x_te = torch.cat((x1_te,x2_te),1)"
      ],
      "execution_count": 0,
      "outputs": []
    },
    {
      "cell_type": "code",
      "metadata": {
        "id": "hzJb46w1zl50",
        "colab_type": "code",
        "outputId": "c0943410-b863-42ff-f068-af9a78c2919a",
        "colab": {
          "base_uri": "https://localhost:8080/",
          "height": 269
        }
      },
      "source": [
        "# Plot spurious correlations\n",
        "ax = plt.subplot(111)\n",
        "ax.scatter(x1_tr.numpy(),x2_tr.numpy(),color='black',s=1)\n",
        "#ax.scatter(x1_te.numpy(),x2_te.numpy(),color='green',s=1)\n",
        "ax.spines['right'].set_visible(False)\n",
        "ax.spines['top'].set_visible(False)\n",
        "ax.yaxis.set_ticks_position('left')\n",
        "ax.xaxis.set_ticks_position('bottom')"
      ],
      "execution_count": 12,
      "outputs": [
        {
          "output_type": "display_data",
          "data": {
            "image/png": "[encoded data removed]",
            "text/plain": [
              "<Figure size 432x288 with 1 Axes>"
            ]
          },
          "metadata": {
            "tags": []
          }
        }
      ]
    },
    {
      "cell_type": "code",
      "metadata": {
        "id": "B2IkveMJIS2s",
        "colab_type": "code",
        "outputId": "872df79c-1f8c-476e-df7a-a94c386af627",
        "colab": {
          "base_uri": "https://localhost:8080/",
          "height": 269
        }
      },
      "source": [
        "# Plot causal dependency\n",
        "ax = plt.subplot(111)\n",
        "ax.scatter(x1_tr.numpy(),y_tr.numpy(),color='black',s=1)\n",
        "ax.scatter(x1_te.numpy(),y_te.numpy(),color='green',s=1)\n",
        "ax.spines['right'].set_visible(False)\n",
        "ax.spines['top'].set_visible(False)\n",
        "ax.yaxis.set_ticks_position('left')\n",
        "ax.xaxis.set_ticks_position('bottom')"
      ],
      "execution_count": 13,
      "outputs": [
        {
          "output_type": "display_data",
          "data": {
            "image/png": "[encoded data removed]",
            "text/plain": [
              "<Figure size 432x288 with 1 Axes>"
            ]
          },
          "metadata": {
            "tags": []
          }
        }
      ]
    },
    {
      "cell_type": "code",
      "metadata": {
        "id": "tCyputoq2ODL",
        "colab_type": "code",
        "colab": {}
      },
      "source": [
        "train_data = utils.TensorDataset(x_tr,y_tr) \n",
        "train_loader = utils.DataLoader(train_data,batch_size=bs) \n",
        "test_data = utils.TensorDataset(x_te,y_te) \n",
        "test_loader = utils.DataLoader(test_data,batch_size=n) "
      ],
      "execution_count": 0,
      "outputs": []
    },
    {
      "cell_type": "code",
      "metadata": {
        "id": "r4P32ZD48pms",
        "colab_type": "code",
        "colab": {}
      },
      "source": [
        "# Build FC net\n",
        "class Net(nn.Module):\n",
        "    def __init__(self):\n",
        "        super(Net, self).__init__()\n",
        "        self.fc1 = nn.Linear(dim*2, 200)\n",
        "        self.fc2 = nn.Linear(200, 200)\n",
        "        self.fc3 = nn.Linear(200, 1)\n",
        "    def forward(self, x):\n",
        "        x = F.relu(self.fc1(x))\n",
        "        x = F.relu(self.fc2(x))\n",
        "        x = self.fc3(x)\n",
        "        return x\n",
        "\n",
        "net = Net()\n",
        "optimizer = torch.optim.Adam(net.parameters(), lr=lr)\n",
        "criterion = nn.MSELoss()     "
      ],
      "execution_count": 0,
      "outputs": []
    },
    {
      "cell_type": "code",
      "metadata": {
        "id": "qCreFkH99lF9",
        "colab_type": "code",
        "outputId": "fbb6381f-920e-4c66-f79a-1d538d737b1f",
        "colab": {
          "base_uri": "https://localhost:8080/",
          "height": 68
        }
      },
      "source": [
        "out = display(IPython.display.Pretty('Starting'), display_id=True)\n",
        "time.sleep(1)\n",
        "\n",
        "for epoch in range(epochs):\n",
        "    for batch_idx, (data, target) in enumerate(train_loader):\n",
        "        data, target = Variable(data), Variable(target)\n",
        "        data = data.view(-1, 2)\n",
        "        optimizer.zero_grad()\n",
        "        net_out = net(data)\n",
        "        loss = criterion(net_out, target)\n",
        "        loss.backward()\n",
        "        optimizer.step()\n",
        "        if batch_idx % log_interval == 0:\n",
        "            out.update(IPython.display.Pretty('Train Epoch: {} [{}/{} ({:.0f}%)]\\tLoss: {:.6f}'.format(\n",
        "                    epoch+1, batch_idx * len(data), len(train_loader.dataset),\n",
        "                           bs * batch_idx / len(train_loader), loss.item())))\n",
        "            \n",
        "print('Train MSE: '+str(criterion(net_out,target).mean().item()))\n",
        "\n",
        "for idx, (data, target) in enumerate(test_loader):\n",
        "  data, target = Variable(data), Variable(target)\n",
        "  data = data.view(-1, 2)\n",
        "  optimizer.zero_grad()\n",
        "  net_out = net(data)\n",
        "  print('Test MSE: '+str(criterion(net_out,target).mean().item()))\n",
        "  "
      ],
      "execution_count": 8,
      "outputs": [
        {
          "output_type": "display_data",
          "data": {
            "text/plain": [
              "Train Epoch: 100 [0/1000 (0%)]\tLoss: 1.942249"
            ]
          },
          "metadata": {
            "tags": []
          }
        },
        {
          "output_type": "stream",
          "text": [
            "Train MSE: 2.556887626647949\n",
            "Test MSE: 741.9774780273438\n"
          ],
          "name": "stdout"
        }
      ]
    },
    {
      "cell_type": "markdown",
      "metadata": {
        "id": "RL5HONRCMWRX",
        "colab_type": "text"
      },
      "source": [
        "Outcome is as expected, model only looks at spurious correlation if easier and fails on test set, if spurious correlation is low, model succeeds on test set.\n",
        "\n",
        "To do: visualize stats to show model learns spurious correlations where it can, extend to \"unfair Dsprites\" dataset with convnet and use location and orientation in SEM setup."
      ]
    },
    {
      "cell_type": "code",
      "metadata": {
        "id": "8Jny_3_WMjmN",
        "colab_type": "code",
        "colab": {
          "base_uri": "https://localhost:8080/",
          "height": 334
        },
        "outputId": "f3c1f4fc-3017-483c-ec62-1d1a6a5138e2"
      },
      "source": [
        "# Load Dsprites\n",
        "x = np.load('dsprites_ndarray_co1sh3sc6or40x32y32_64x64.npz')\n",
        "ims = x['imgs']\n",
        "poses = x['latents_values']\n",
        "ids = x['latents_classes']"
      ],
      "execution_count": 9,
      "outputs": [
        {
          "output_type": "error",
          "ename": "FileNotFoundError",
          "evalue": "ignored",
          "traceback": [
            "\u001b[0;31m---------------------------------------------------------------------------\u001b[0m",
            "\u001b[0;31mFileNotFoundError\u001b[0m                         Traceback (most recent call last)",
            "\u001b[0;32m<ipython-input-9-6a550a489f4f>\u001b[0m in \u001b[0;36m<module>\u001b[0;34m()\u001b[0m\n\u001b[0;32m----> 1\u001b[0;31m \u001b[0mx\u001b[0m \u001b[0;34m=\u001b[0m \u001b[0mnp\u001b[0m\u001b[0;34m.\u001b[0m\u001b[0mload\u001b[0m\u001b[0;34m(\u001b[0m\u001b[0;34m'dsprites_ndarray_co1sh3sc6or40x32y32_64x64.npz'\u001b[0m\u001b[0;34m)\u001b[0m\u001b[0;34m\u001b[0m\u001b[0;34m\u001b[0m\u001b[0m\n\u001b[0m\u001b[1;32m      2\u001b[0m \u001b[0mims\u001b[0m \u001b[0;34m=\u001b[0m \u001b[0mx\u001b[0m\u001b[0;34m[\u001b[0m\u001b[0;34m'imgs'\u001b[0m\u001b[0;34m]\u001b[0m\u001b[0;34m\u001b[0m\u001b[0;34m\u001b[0m\u001b[0m\n\u001b[1;32m      3\u001b[0m \u001b[0mposes\u001b[0m \u001b[0;34m=\u001b[0m \u001b[0mx\u001b[0m\u001b[0;34m[\u001b[0m\u001b[0;34m'latents_values'\u001b[0m\u001b[0;34m]\u001b[0m\u001b[0;34m\u001b[0m\u001b[0;34m\u001b[0m\u001b[0m\n\u001b[1;32m      4\u001b[0m \u001b[0mids\u001b[0m \u001b[0;34m=\u001b[0m \u001b[0mx\u001b[0m\u001b[0;34m[\u001b[0m\u001b[0;34m'latents_classes'\u001b[0m\u001b[0;34m]\u001b[0m\u001b[0;34m\u001b[0m\u001b[0;34m\u001b[0m\u001b[0m\n",
            "\u001b[0;32m/usr/local/lib/python3.6/dist-packages/numpy/lib/npyio.py\u001b[0m in \u001b[0;36mload\u001b[0;34m(file, mmap_mode, allow_pickle, fix_imports, encoding)\u001b[0m\n\u001b[1;32m    420\u001b[0m         \u001b[0mown_fid\u001b[0m \u001b[0;34m=\u001b[0m \u001b[0;32mFalse\u001b[0m\u001b[0;34m\u001b[0m\u001b[0;34m\u001b[0m\u001b[0m\n\u001b[1;32m    421\u001b[0m     \u001b[0;32melse\u001b[0m\u001b[0;34m:\u001b[0m\u001b[0;34m\u001b[0m\u001b[0;34m\u001b[0m\u001b[0m\n\u001b[0;32m--> 422\u001b[0;31m         \u001b[0mfid\u001b[0m \u001b[0;34m=\u001b[0m \u001b[0mopen\u001b[0m\u001b[0;34m(\u001b[0m\u001b[0mos_fspath\u001b[0m\u001b[0;34m(\u001b[0m\u001b[0mfile\u001b[0m\u001b[0;34m)\u001b[0m\u001b[0;34m,\u001b[0m \u001b[0;34m\"rb\"\u001b[0m\u001b[0;34m)\u001b[0m\u001b[0;34m\u001b[0m\u001b[0;34m\u001b[0m\u001b[0m\n\u001b[0m\u001b[1;32m    423\u001b[0m         \u001b[0mown_fid\u001b[0m \u001b[0;34m=\u001b[0m \u001b[0;32mTrue\u001b[0m\u001b[0;34m\u001b[0m\u001b[0;34m\u001b[0m\u001b[0m\n\u001b[1;32m    424\u001b[0m \u001b[0;34m\u001b[0m\u001b[0m\n",
            "\u001b[0;31mFileNotFoundError\u001b[0m: [Errno 2] No such file or directory: 'dsprites_ndarray_co1sh3sc6or40x32y32_64x64.npz'"
          ]
        }
      ]
    },
    {
      "cell_type": "code",
      "metadata": {
        "id": "cbTQcOoUASkb",
        "colab_type": "code",
        "colab": {}
      },
      "source": [
        "plt.imshow(ims[10,:,:],cmap='gray')"
      ],
      "execution_count": 0,
      "outputs": []
    },
    {
      "cell_type": "code",
      "metadata": {
        "id": "3hKrA31OAUkD",
        "colab_type": "code",
        "colab": {
          "base_uri": "https://localhost:8080/",
          "height": 232
        },
        "outputId": "5e96707f-b069-4582-e508-6b6e0361ebfb"
      },
      "source": [
        "squares = []\n",
        "squares_positions = []\n",
        "hearts = []\n",
        "hearts_positions = []\n",
        "\n",
        "for i in range(len(poses)):\n",
        "  if poses[i][1] == 1.0 and poses[i][2] >= 0.8 and poses[i][3] == 0:\n",
        "      squares.append(ims[i,:,:])\n",
        "      squares_positions.append((poses[i][4],poses[i][5]))\n",
        "  elif poses[i][1] == 3.0 and poses[i][2] >= 0.8 and poses[i][3] == 0:\n",
        "      hearts.append(ims[i,:,:])\n",
        "      hearts_positions.append((poses[i][4],poses[i][5]))\n",
        "      \n",
        "squares = np.array(squares)\n",
        "squares_xy = squares_positions\n",
        "hearts = np.array(hearts)\n",
        "hearts_xy = hearts_positions"
      ],
      "execution_count": 10,
      "outputs": [
        {
          "output_type": "error",
          "ename": "NameError",
          "evalue": "ignored",
          "traceback": [
            "\u001b[0;31m---------------------------------------------------------------------------\u001b[0m",
            "\u001b[0;31mNameError\u001b[0m                                 Traceback (most recent call last)",
            "\u001b[0;32m<ipython-input-10-5e6f6046a28c>\u001b[0m in \u001b[0;36m<module>\u001b[0;34m()\u001b[0m\n\u001b[1;32m      4\u001b[0m \u001b[0mhearts_positions\u001b[0m \u001b[0;34m=\u001b[0m \u001b[0;34m[\u001b[0m\u001b[0;34m]\u001b[0m\u001b[0;34m\u001b[0m\u001b[0;34m\u001b[0m\u001b[0m\n\u001b[1;32m      5\u001b[0m \u001b[0;34m\u001b[0m\u001b[0m\n\u001b[0;32m----> 6\u001b[0;31m \u001b[0;32mfor\u001b[0m \u001b[0mi\u001b[0m \u001b[0;32min\u001b[0m \u001b[0mrange\u001b[0m\u001b[0;34m(\u001b[0m\u001b[0mlen\u001b[0m\u001b[0;34m(\u001b[0m\u001b[0mposes\u001b[0m\u001b[0;34m)\u001b[0m\u001b[0;34m)\u001b[0m\u001b[0;34m:\u001b[0m\u001b[0;34m\u001b[0m\u001b[0;34m\u001b[0m\u001b[0m\n\u001b[0m\u001b[1;32m      7\u001b[0m   \u001b[0;32mif\u001b[0m \u001b[0mposes\u001b[0m\u001b[0;34m[\u001b[0m\u001b[0mi\u001b[0m\u001b[0;34m]\u001b[0m\u001b[0;34m[\u001b[0m\u001b[0;36m1\u001b[0m\u001b[0;34m]\u001b[0m \u001b[0;34m==\u001b[0m \u001b[0;36m1.0\u001b[0m \u001b[0;32mand\u001b[0m \u001b[0mposes\u001b[0m\u001b[0;34m[\u001b[0m\u001b[0mi\u001b[0m\u001b[0;34m]\u001b[0m\u001b[0;34m[\u001b[0m\u001b[0;36m2\u001b[0m\u001b[0;34m]\u001b[0m \u001b[0;34m>=\u001b[0m \u001b[0;36m0.8\u001b[0m \u001b[0;32mand\u001b[0m \u001b[0mposes\u001b[0m\u001b[0;34m[\u001b[0m\u001b[0mi\u001b[0m\u001b[0;34m]\u001b[0m\u001b[0;34m[\u001b[0m\u001b[0;36m3\u001b[0m\u001b[0;34m]\u001b[0m \u001b[0;34m==\u001b[0m \u001b[0;36m0\u001b[0m\u001b[0;34m:\u001b[0m\u001b[0;34m\u001b[0m\u001b[0;34m\u001b[0m\u001b[0m\n\u001b[1;32m      8\u001b[0m       \u001b[0msquares\u001b[0m\u001b[0;34m.\u001b[0m\u001b[0mappend\u001b[0m\u001b[0;34m(\u001b[0m\u001b[0mims\u001b[0m\u001b[0;34m[\u001b[0m\u001b[0mi\u001b[0m\u001b[0;34m,\u001b[0m\u001b[0;34m:\u001b[0m\u001b[0;34m,\u001b[0m\u001b[0;34m:\u001b[0m\u001b[0;34m]\u001b[0m\u001b[0;34m)\u001b[0m\u001b[0;34m\u001b[0m\u001b[0;34m\u001b[0m\u001b[0m\n",
            "\u001b[0;31mNameError\u001b[0m: name 'poses' is not defined"
          ]
        }
      ]
    },
    {
      "cell_type": "code",
      "metadata": {
        "id": "4oHMWdLyoKXS",
        "colab_type": "code",
        "colab": {}
      },
      "source": [
        "## Use different subset indices for hearts and squares unbiased\n",
        "unbiased_data_idcs = np.arange(0,len(squares))\n",
        "np.random.shuffle(unbiased_data_idcs)\n",
        "unbiased_squares = unbiased_data_idcs[:(len(squares)//2)].copy()\n",
        "np.random.shuffle(unbiased_data_idcs)\n",
        "np.random.shuffle(unbiased_data_idcs)\n",
        "unbiased_hearts = unbiased_data_idcs[:(len(squares)//2)]\n",
        "\n",
        "biased_squares = []\n",
        "biased_hearts = []\n",
        "\n",
        "for i in range(len(squares)):\n",
        "  if squares_xy[i][0] < 0.5 and squares_xy[i][1] < 0.5:\n",
        "    biased_squares.append(i)\n",
        "  elif squares_xy[i][0] > 0.5 and squares_xy[i][1] > 0.5:\n",
        "    biased_squares.append(i)\n",
        "  if hearts_xy[i][0] > 0.5 and hearts_xy[i][1] < 0.5:\n",
        "    biased_hearts.append(i)\n",
        "  elif hearts_xy[i][0] < 0.5 and hearts_xy[i][1] > 0.5:\n",
        "    biased_hearts.append(i)\n",
        "    \n",
        "biased_squares = np.array(biased_squares)\n",
        "np.random.shuffle(biased_squares)\n",
        "biased_hearts = np.array(biased_hearts)\n",
        "np.random.shuffle(biased_hearts)"
      ],
      "execution_count": 0,
      "outputs": []
    },
    {
      "cell_type": "code",
      "metadata": {
        "id": "X8x0_yixUdqU",
        "colab_type": "code",
        "colab": {
          "base_uri": "https://localhost:8080/",
          "height": 232
        },
        "outputId": "ac685266-740a-48cb-b618-7bc2d0da2284"
      },
      "source": [
        "from torchvision.utils import make_grid as make_grid\n",
        "\n",
        "some_unbiased_squares = squares[unbiased_squares[:25]]\n",
        "some_unbiased_hearts = hearts[unbiased_hearts[:25]]\n",
        "some_biased_squares = squares[biased_squares[:25]]\n",
        "some_biased_hearts = hearts[biased_hearts[:25]]\n"
      ],
      "execution_count": 12,
      "outputs": [
        {
          "output_type": "error",
          "ename": "TypeError",
          "evalue": "ignored",
          "traceback": [
            "\u001b[0;31m---------------------------------------------------------------------------\u001b[0m",
            "\u001b[0;31mTypeError\u001b[0m                                 Traceback (most recent call last)",
            "\u001b[0;32m<ipython-input-12-2c2290616123>\u001b[0m in \u001b[0;36m<module>\u001b[0;34m()\u001b[0m\n\u001b[1;32m      1\u001b[0m \u001b[0;32mfrom\u001b[0m \u001b[0mtorchvision\u001b[0m\u001b[0;34m.\u001b[0m\u001b[0mutils\u001b[0m \u001b[0;32mimport\u001b[0m \u001b[0mmake_grid\u001b[0m \u001b[0;32mas\u001b[0m \u001b[0mmake_grid\u001b[0m\u001b[0;34m\u001b[0m\u001b[0;34m\u001b[0m\u001b[0m\n\u001b[1;32m      2\u001b[0m \u001b[0;34m\u001b[0m\u001b[0m\n\u001b[0;32m----> 3\u001b[0;31m \u001b[0msome_unbiased_squares\u001b[0m \u001b[0;34m=\u001b[0m \u001b[0msquares\u001b[0m\u001b[0;34m[\u001b[0m\u001b[0munbiased_squares\u001b[0m\u001b[0;34m[\u001b[0m\u001b[0;34m:\u001b[0m\u001b[0;36m25\u001b[0m\u001b[0;34m]\u001b[0m\u001b[0;34m]\u001b[0m\u001b[0;34m\u001b[0m\u001b[0;34m\u001b[0m\u001b[0m\n\u001b[0m\u001b[1;32m      4\u001b[0m \u001b[0msome_unbiased_hearts\u001b[0m \u001b[0;34m=\u001b[0m \u001b[0mhearts\u001b[0m\u001b[0;34m[\u001b[0m\u001b[0munbiased_hearts\u001b[0m\u001b[0;34m[\u001b[0m\u001b[0;34m:\u001b[0m\u001b[0;36m25\u001b[0m\u001b[0;34m]\u001b[0m\u001b[0;34m]\u001b[0m\u001b[0;34m\u001b[0m\u001b[0;34m\u001b[0m\u001b[0m\n\u001b[1;32m      5\u001b[0m \u001b[0msome_biased_squares\u001b[0m \u001b[0;34m=\u001b[0m \u001b[0msquares\u001b[0m\u001b[0;34m[\u001b[0m\u001b[0mbiased_squares\u001b[0m\u001b[0;34m[\u001b[0m\u001b[0;34m:\u001b[0m\u001b[0;36m25\u001b[0m\u001b[0;34m]\u001b[0m\u001b[0;34m]\u001b[0m\u001b[0;34m\u001b[0m\u001b[0;34m\u001b[0m\u001b[0m\n",
            "\u001b[0;31mTypeError\u001b[0m: only integer scalar arrays can be converted to a scalar index"
          ]
        }
      ]
    },
    {
      "cell_type": "code",
      "metadata": {
        "id": "xSltn7rJL6Lj",
        "colab_type": "code",
        "colab": {
          "base_uri": "https://localhost:8080/",
          "height": 286
        },
        "outputId": "158c99df-d017-447c-e5e3-c47c3621912f"
      },
      "source": [
        "from PIL import Image\n",
        "import requests\n",
        "from io import BytesIO\n",
        "import cv2\n",
        "from resizeimage import resizeimage\n",
        "\n",
        "response = requests.get(\"https://github.com/mmssouza/kimia99/raw/master/bunny04.png\")\n",
        "bunny = Image.open(BytesIO(response.content))\n",
        "bunny = np.uint8(np.array(bunny))\n",
        "bunny = bunny//255\n",
        "bunny = np.abs(bunny-1)\n",
        "bunny = np.pad(bunny,((54,54),(34,34)),mode='constant')\n",
        "response = requests.get(\"https://github.com/mmssouza/kimia99/raw/master/cow1.png\")\n",
        "cow = Image.open(BytesIO(response.content))\n",
        "#cow = resizeimage.resize_cover(cow, [92, 120], validate=False)\n",
        "#cow = resizeimage.resize_contain(cow, [92,120], resample=Image.LANCZOS)\n",
        "cow = np.uint8(np.array(cow))\n",
        "cow = cv2.resize(cow, (90,100), interpolation = cv2.INTER_AREA)\n",
        "cow = cow//255\n",
        "cow = np.abs(cow-1)\n",
        "cow = np.pad(cow,((47,47),(40,40)),mode='constant')\n",
        "\n",
        "num_rows, num_cols = bunny.shape[:2]\n",
        "\n",
        "# bottom right: 46 39 to 60 70\n",
        "translation_matrix = np.float32([ [1,0,78], [0,1,-56] ])\n",
        "img_translation = cv2.warpAffine(cow, translation_matrix, (num_cols, num_rows))\n",
        "plt.imshow(img_translation,cmap='gray')"
      ],
      "execution_count": 56,
      "outputs": [
        {
          "output_type": "execute_result",
          "data": {
            "text/plain": [
              "<matplotlib.image.AxesImage at 0x7f8dfc8915c0>"
            ]
          },
          "metadata": {
            "tags": []
          },
          "execution_count": 56
        },
        {
          "output_type": "display_data",
          "data": {
            "image/png": "[encoded data removed]",
            "text/plain": [
              "<Figure size 432x288 with 1 Axes>"
            ]
          },
          "metadata": {
            "tags": []
          }
        }
      ]
    },
    {
      "cell_type": "code",
      "metadata": {
        "id": "Afij55OTMuoe",
        "colab_type": "code",
        "colab": {}
      },
      "source": [
        "biased_train_bun = []\n",
        "biased_train_cow = []\n",
        "\n",
        "for i in range(1000):\n",
        "  \n",
        "  x_val = np.random.randint(46,60)\n",
        "  y_val = np.random.randint(39,70)\n",
        "  translation_matrix = np.float32([ [1,0,x_val], [0,1,y_val] ])\n",
        "  im = cv2.warpAffine(bunny, translation_matrix, (200, 200))\n",
        "  biased_train_bun.append(im)\n",
        "  x_val = np.random.randint(-53,-39)\n",
        "  y_val = np.random.randint(-65,-34)\n",
        "  translation_matrix = np.float32([ [1,0,x_val], [0,1,y_val] ])\n",
        "  im = cv2.warpAffine(bunny, translation_matrix, (200, 200))\n",
        "  biased_train_bun.append(im)\n",
        "  \n",
        "  y_val = np.random.randint(44,64)\n",
        "  x_val = np.random.randint(-46,-22)\n",
        "  translation_matrix = np.float32([ [1,0,x_val], [0,1,y_val] ])\n",
        "  im = cv2.warpAffine(cow, translation_matrix, (200, 200))\n",
        "  biased_train_cow.append(im)\n",
        "  y_val = np.random.randint(-56,-33)\n",
        "  x_val = np.random.randint(55,78)\n",
        "  translation_matrix = np.float32([ [1,0,x_val], [0,1,y_val] ])\n",
        "  im = cv2.warpAffine(cow, translation_matrix, (200, 200))\n",
        "  biased_train_cow.append(im)\n",
        "  \n",
        "unbiased_train_bun = []\n",
        "unbiased_train_cow = []\n",
        "\n",
        "for i in range(2000):\n",
        "  \n",
        "  x_val = np.random.randint(-53,60)\n",
        "  y_val = np.random.randint(-65,70)\n",
        "  translation_matrix = np.float32([ [1,0,x_val], [0,1,y_val] ])\n",
        "  im = cv2.warpAffine(bunny, translation_matrix, (200, 200))\n",
        "  unbiased_train_bun.append(im)\n",
        "  \n",
        "  y_val = np.random.randint(-56,64)\n",
        "  x_val = np.random.randint(-46,78)\n",
        "  translation_matrix = np.float32([ [1,0,x_val], [0,1,y_val] ])\n",
        "  im = cv2.warpAffine(cow, translation_matrix, (200, 200))\n",
        "  unbiased_train_cow.append(im)\n",
        "  \n",
        "biased_train_cow = np.array(biased_train_cow)\n",
        "biased_train_bun = np.array(biased_train_bun)\n",
        "unbiased_train_cow = np.array(unbiased_train_cow)\n",
        "unbiased_train_bun = np.array(unbiased_train_bun)"
      ],
      "execution_count": 0,
      "outputs": []
    },
    {
      "cell_type": "code",
      "metadata": {
        "id": "1TgNmwoUMvDx",
        "colab_type": "code",
        "colab": {}
      },
      "source": [
        "unbiased_squares = unbiased_train_cow\n",
        "unbiased_hearts = unbiased_train_bun\n",
        "biased_squares = biased_train_cow\n",
        "biased_hearts = biased_train_bun"
      ],
      "execution_count": 0,
      "outputs": []
    },
    {
      "cell_type": "code",
      "metadata": {
        "id": "ItjLCNncWgge",
        "colab_type": "code",
        "colab": {}
      },
      "source": [
        "some_unbiased_squares = biased_squares[:25]\n",
        "np.random.shuffle(some_unbiased_squares)"
      ],
      "execution_count": 0,
      "outputs": []
    },
    {
      "cell_type": "code",
      "metadata": {
        "id": "cfBl2GcSX3W2",
        "colab_type": "code",
        "outputId": "404c83b1-251c-4ac8-ed09-6a826cf59cfd",
        "colab": {
          "base_uri": "https://localhost:8080/",
          "height": 303
        }
      },
      "source": [
        "grid = make_grid(torch.from_numpy(np.float32(some_unbiased_squares)).view(25,1,200,200),nrow=5,pad_value=1,padding=10)\n",
        "plt.axis('off')\n",
        "plt.imsave('unbiased_squares',grid.numpy().transpose(1,2,0))\n",
        "plt.imshow(grid.numpy().transpose(1,2,0))"
      ],
      "execution_count": 101,
      "outputs": [
        {
          "output_type": "stream",
          "text": [
            "Clipping input data to the valid range for imshow with RGB data ([0..1] for floats or [0..255] for integers).\n"
          ],
          "name": "stderr"
        },
        {
          "output_type": "execute_result",
          "data": {
            "text/plain": [
              "<matplotlib.image.AxesImage at 0x7f8dfc100358>"
            ]
          },
          "metadata": {
            "tags": []
          },
          "execution_count": 101
        },
        {
          "output_type": "display_data",
          "data": {
            "image/png": "[encoded data removed]",
            "text/plain": [
              "<Figure size 432x288 with 1 Axes>"
            ]
          },
          "metadata": {
            "tags": []
          }
        }
      ]
    },
    {
      "cell_type": "code",
      "metadata": {
        "id": "FXTGfWvNZhDP",
        "colab_type": "code",
        "colab": {}
      },
      "source": [
        "unbiased_data = np.concatenate((unbiased_squares,unbiased_hearts))\n",
        "unbiased_data = torch.from_numpy(np.float32(unbiased_data))\n",
        "labels = np.concatenate((np.zeros(len(unbiased_squares)),np.ones(len(unbiased_squares))))\n",
        "labels = torch.from_numpy(labels).long()\n",
        "biased_data = np.concatenate((biased_squares,biased_hearts))\n",
        "biased_data = torch.from_numpy(np.float32(biased_data))\n",
        "\n",
        "train_data = utils.TensorDataset(biased_data,labels) \n",
        "train_loader = utils.DataLoader(train_data,batch_size=100,shuffle=True) \n",
        "test_data = utils.TensorDataset(unbiased_data,labels) \n",
        "test_loader = utils.DataLoader(test_data,batch_size=100) "
      ],
      "execution_count": 0,
      "outputs": []
    },
    {
      "cell_type": "code",
      "metadata": {
        "id": "PfPqOSmzcRnb",
        "colab_type": "code",
        "colab": {}
      },
      "source": [
        "# Build FC net\n",
        "class Net(nn.Module):\n",
        "    def __init__(self):\n",
        "        super(Net, self).__init__()\n",
        "        self.fc1 = nn.Linear(200*200, 1024)\n",
        "        self.fc2 = nn.Linear(1024, 1024)\n",
        "        self.fc3 = nn.Linear(1024, 2)\n",
        "    def forward(self, x):\n",
        "        x = F.relu(self.fc1(x))\n",
        "        x = F.relu(self.fc2(x))\n",
        "        x = self.fc3(x)\n",
        "        return x\n",
        "      \n",
        "class ConvNet(nn.Module):\n",
        "    def __init__(self):\n",
        "        super(ConvNet, self).__init__()\n",
        "        self.c1 = nn.Conv2d(1, 32, 5, 2, padding=2)\n",
        "        self.c2 = nn.Conv2d(32, 32, 5, 2, padding=2)\n",
        "        self.c3 = nn.Conv2d(32, 32, 5, 2, padding=2)\n",
        "        self.pool = nn.AvgPool2d(8)\n",
        "        self.fc = nn.Linear(32, 2)\n",
        "    def forward(self, x):\n",
        "        x = F.relu(self.c1(x))\n",
        "        x = F.relu(self.c2(x))\n",
        "        x = F.relu(self.c3(x))\n",
        "        x = self.pool(x)\n",
        "        x = x.view(x.size(0), -1)\n",
        "        x = self.fc(x)\n",
        "        return x\n",
        "      \n",
        "      \n",
        "class ConvNet2(nn.Module):\n",
        "    def __init__(self):\n",
        "        super(ConvNet2, self).__init__()\n",
        "        self.c1 = nn.Conv2d(1, 128, 5)#, 2, padding=2)\n",
        "        self.c2 = nn.Conv2d(128, 128, 5)#, 2, padding=2)\n",
        "        self.c3 = nn.Conv2d(128, 128, 5)#, 2, padding=2)\n",
        "        self.pool = nn.AvgPool2d(64)\n",
        "        self.fc = nn.Linear(128, 2)\n",
        "    def forward(self, x):\n",
        "        x = F.relu(self.c1(x))\n",
        "        x = F.relu(self.c2(x))\n",
        "        x = F.relu(self.c3(x))\n",
        "        x = self.pool(x)\n",
        "        x = x.view(x.size(0), -1)\n",
        "        x = self.fc(x)\n",
        "        return x\n",
        "\n",
        "net = Net()\n",
        "optimizer = torch.optim.Adam(net.parameters(), lr=lr)\n",
        "#criterion = nn.MSELoss()     \n",
        "criterion = nn.CrossEntropyLoss()"
      ],
      "execution_count": 0,
      "outputs": []
    },
    {
      "cell_type": "code",
      "metadata": {
        "id": "e9byLtTidZfw",
        "colab_type": "code",
        "outputId": "274634fc-b4e9-4aee-ce05-4eb4052af826",
        "colab": {
          "base_uri": "https://localhost:8080/",
          "height": 68
        }
      },
      "source": [
        "out = display(IPython.display.Pretty('Starting'), display_id=True)\n",
        "time.sleep(1)\n",
        "import pdb\n",
        "\n",
        "epochs = 5\n",
        "\n",
        "for epoch in range(epochs):\n",
        "    total = 0.\n",
        "    correct = 0.\n",
        "    for batch_idx, (data, target) in enumerate(train_loader):\n",
        "        data, target = Variable(data), Variable(target)\n",
        "        data = data.view(-1, 1, 200*200)\n",
        "        target = target.squeeze()\n",
        "        optimizer.zero_grad()\n",
        "        net_out = net(data).squeeze()\n",
        "        loss = criterion(net_out, target)\n",
        "        loss.backward()\n",
        "        optimizer.step()\n",
        "        if batch_idx % log_interval == 0:\n",
        "            out.update(IPython.display.Pretty('Train Epoch: {} [{}/{} ({:.0f}%)]\\tLoss: {:.6f}'.format(\n",
        "                    epoch+1, batch_idx * len(data), len(train_loader.dataset),\n",
        "                           bs * batch_idx / len(train_loader), loss.item())))\n",
        "            \n",
        "        _, predicted = torch.max(net_out.data, 1)\n",
        "        total += target.size(0)\n",
        "        correct += (predicted == target).sum().item()\n",
        "\n",
        "print('Train Acc: '+str(correct/total))\n",
        "\n",
        "total = 0.\n",
        "correct = 0.\n",
        "for idx, (data, target) in enumerate(test_loader):\n",
        "  data, target = Variable(data), Variable(target)\n",
        "  data = data.view(-1, 1,200*200)\n",
        "  optimizer.zero_grad()\n",
        "  net_out = net(data).squeeze()\n",
        "  _, predicted = torch.max(net_out.data, 1)\n",
        "  total += target.size(0)\n",
        "  correct += (predicted == target).sum().item()\n",
        "print('Test Acc: '+str(correct/total))"
      ],
      "execution_count": 87,
      "outputs": [
        {
          "output_type": "display_data",
          "data": {
            "text/plain": [
              "Train Epoch: 5 [3000/4000 (75%)]\tLoss: 0.000000"
            ]
          },
          "metadata": {
            "tags": []
          }
        },
        {
          "output_type": "stream",
          "text": [
            "Train Acc: 1.0\n",
            "Test Acc: 0.492\n"
          ],
          "name": "stdout"
        }
      ]
    },
    {
      "cell_type": "code",
      "metadata": {
        "id": "V9f-fCwQaVG1",
        "colab_type": "code",
        "colab": {
          "base_uri": "https://localhost:8080/",
          "height": 102
        },
        "outputId": "98856e1e-2a1e-4995-cdf7-16da2a1c2b5f"
      },
      "source": [
        ""
      ],
      "execution_count": 84,
      "outputs": [
        {
          "output_type": "stream",
          "text": [
            "tensor([1, 1, 0, 0, 0, 1, 1, 0, 0, 0, 0, 0, 1, 1, 0, 1, 1, 1, 1, 1, 0, 0, 0, 0,\n",
            "        0, 0, 1, 1, 0, 0, 1, 1, 0, 0, 1, 0, 0, 1, 1, 0, 0, 1, 1, 0, 1, 0, 0, 1,\n",
            "        1, 0, 0, 0, 0, 0, 0, 1, 0, 1, 0, 0, 1, 1, 0, 1, 0, 1, 0, 0, 1, 0, 0, 1,\n",
            "        0, 1, 1, 1, 0, 0, 1, 0, 1, 1, 1, 0, 1, 0, 1, 0, 0, 0, 0, 0, 0, 1, 0, 1,\n",
            "        1, 1, 0, 1])\n"
          ],
          "name": "stdout"
        }
      ]
    },
    {
      "cell_type": "code",
      "metadata": {
        "id": "LEIJYzIYhWmw",
        "colab_type": "code",
        "outputId": "5ab459e2-edc6-4d85-a87a-c83b5c22229f",
        "colab": {
          "base_uri": "https://localhost:8080/",
          "height": 286
        }
      },
      "source": [
        "unbiased_hearts = squares[unbiased_hearts]\n",
        "unbiased_hearts_means = np.mean(unbiased_hearts,axis=0)\n",
        "plt.imshow(unbiased_hearts_means,cmap='inferno')"
      ],
      "execution_count": 0,
      "outputs": [
        {
          "output_type": "execute_result",
          "data": {
            "text/plain": [
              "<matplotlib.image.AxesImage at 0x7f0cdcfd3d68>"
            ]
          },
          "metadata": {
            "tags": []
          },
          "execution_count": 16
        },
        {
          "output_type": "display_data",
          "data": {
            "image/png": "[encoded data removed]",
            "text/plain": [
              "<Figure size 432x288 with 1 Axes>"
            ]
          },
          "metadata": {
            "tags": []
          }
        }
      ]
    },
    {
      "cell_type": "code",
      "metadata": {
        "id": "EEKPL8tsdB0z",
        "colab_type": "code",
        "outputId": "911f5ecf-fed5-4791-ec42-ac2d5ad94d9d",
        "colab": {
          "base_uri": "https://localhost:8080/",
          "height": 286
        }
      },
      "source": [
        "\n",
        "unbiased_squares = squares[unbiased_squares]\n",
        "unbiased_squares_means = np.mean(unbiased_squares,axis=0)\n",
        "plt.imshow(unbiased_squares_means,cmap='inferno')"
      ],
      "execution_count": 0,
      "outputs": [
        {
          "output_type": "execute_result",
          "data": {
            "text/plain": [
              "<matplotlib.image.AxesImage at 0x7f0cdcf37358>"
            ]
          },
          "metadata": {
            "tags": []
          },
          "execution_count": 17
        },
        {
          "output_type": "display_data",
          "data": {
            "image/png": "[encoded data removed]",
            "text/plain": [
              "<Figure size 432x288 with 1 Axes>"
            ]
          },
          "metadata": {
            "tags": []
          }
        }
      ]
    },
    {
      "cell_type": "code",
      "metadata": {
        "id": "sr7Q1QO7aY2w",
        "colab_type": "code",
        "outputId": "3987d5a9-a367-41b3-db99-d963bb1c39f0",
        "colab": {
          "base_uri": "https://localhost:8080/",
          "height": 286
        }
      },
      "source": [
        "\n",
        "biased_hearts = squares[biased_hearts]\n",
        "biased_hearts_means = np.mean(biased_hearts,axis=0)\n",
        "plt.imshow(biased_hearts_means,cmap='inferno')\n"
      ],
      "execution_count": 0,
      "outputs": [
        {
          "output_type": "execute_result",
          "data": {
            "text/plain": [
              "<matplotlib.image.AxesImage at 0x7f0cdcf11978>"
            ]
          },
          "metadata": {
            "tags": []
          },
          "execution_count": 18
        },
        {
          "output_type": "display_data",
          "data": {
            "image/png": "[encoded data removed]",
            "text/plain": [
              "<Figure size 432x288 with 1 Axes>"
            ]
          },
          "metadata": {
            "tags": []
          }
        }
      ]
    },
    {
      "cell_type": "code",
      "metadata": {
        "id": "GPrskCpihfkl",
        "colab_type": "code",
        "outputId": "24f221cd-7e97-4f8b-9ce3-8f5aec72417b",
        "colab": {
          "base_uri": "https://localhost:8080/",
          "height": 286
        }
      },
      "source": [
        "\n",
        "biased_squares = squares[biased_squares]\n",
        "biased_squares_means = np.mean(biased_squares,axis=0)\n",
        "plt.imshow(biased_squares_means,cmap='inferno')"
      ],
      "execution_count": 0,
      "outputs": [
        {
          "output_type": "execute_result",
          "data": {
            "text/plain": [
              "<matplotlib.image.AxesImage at 0x7f0cdce78048>"
            ]
          },
          "metadata": {
            "tags": []
          },
          "execution_count": 19
        },
        {
          "output_type": "display_data",
          "data": {
            "image/png": "[encoded data removed]",
            "text/plain": [
              "<Figure size 432x288 with 1 Axes>"
            ]
          },
          "metadata": {
            "tags": []
          }
        }
      ]
    },
    {
      "cell_type": "code",
      "metadata": {
        "id": "rRkRe_JajIFk",
        "colab_type": "code",
        "colab": {}
      },
      "source": [
        ""
      ],
      "execution_count": 0,
      "outputs": []
    }
  ]
}